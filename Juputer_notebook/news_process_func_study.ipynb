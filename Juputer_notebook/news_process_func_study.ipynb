{
 "cells": [
  {
   "cell_type": "code",
   "execution_count": 1,
   "source": [
    "import pandas as pd\n",
    "import sys; sys.path.insert(0, '..')\n",
    "from Utils.sentiment_scoring_strategy import eval_sentiment_score_for_title"
   ],
   "outputs": [],
   "metadata": {}
  },
  {
   "cell_type": "code",
   "execution_count": 2,
   "source": [
    "import matplotlib.pyplot as plt\n",
    "plt.rcParams['figure.dpi'] = 200"
   ],
   "outputs": [],
   "metadata": {}
  },
  {
   "cell_type": "code",
   "execution_count": 7,
   "source": [
    "NASDAQ_code = \"ACN\"\n",
    "kw = \"Accenture\"\n",
    "date = \"2021-02-14\""
   ],
   "outputs": [],
   "metadata": {}
  },
  {
   "cell_type": "code",
   "execution_count": 8,
   "source": [
    "df =  pd.read_csv(\"/home/vamber/ML_stock/Data/Feature/\" + NASDAQ_code + \"/Raw_Features/\" + \"Google_News/\" + kw + \"/\" + date + \".csv\" , engine=\"python\")"
   ],
   "outputs": [],
   "metadata": {}
  },
  {
   "cell_type": "code",
   "execution_count": 9,
   "source": [
    "df = df.drop(columns=[\"link\", \"published\"])"
   ],
   "outputs": [],
   "metadata": {}
  },
  {
   "cell_type": "code",
   "execution_count": 10,
   "source": [
    "df"
   ],
   "outputs": [
    {
     "output_type": "execute_result",
     "data": {
      "text/html": [
       "<div>\n",
       "<style scoped>\n",
       "    .dataframe tbody tr th:only-of-type {\n",
       "        vertical-align: middle;\n",
       "    }\n",
       "\n",
       "    .dataframe tbody tr th {\n",
       "        vertical-align: top;\n",
       "    }\n",
       "\n",
       "    .dataframe thead th {\n",
       "        text-align: right;\n",
       "    }\n",
       "</style>\n",
       "<table border=\"1\" class=\"dataframe\">\n",
       "  <thead>\n",
       "    <tr style=\"text-align: right;\">\n",
       "      <th></th>\n",
       "      <th>title</th>\n",
       "      <th>source</th>\n",
       "      <th>total_news_today</th>\n",
       "    </tr>\n",
       "  </thead>\n",
       "  <tbody>\n",
       "    <tr>\n",
       "      <th>0</th>\n",
       "      <td>VMware and Accenture launch new business group...</td>\n",
       "      <td>IT Brief Australia</td>\n",
       "      <td>1</td>\n",
       "    </tr>\n",
       "  </tbody>\n",
       "</table>\n",
       "</div>"
      ],
      "text/plain": [
       "                                               title              source  \\\n",
       "0  VMware and Accenture launch new business group...  IT Brief Australia   \n",
       "\n",
       "   total_news_today  \n",
       "0                 1  "
      ]
     },
     "metadata": {},
     "execution_count": 10
    }
   ],
   "metadata": {}
  },
  {
   "cell_type": "code",
   "execution_count": 11,
   "source": [
    "if df[\"total_news_today\"][0] == 0:\n",
    "    df[\"sentiment_score\"] = [0]"
   ],
   "outputs": [],
   "metadata": {}
  },
  {
   "cell_type": "code",
   "execution_count": 12,
   "source": [
    "df"
   ],
   "outputs": [
    {
     "output_type": "execute_result",
     "data": {
      "text/html": [
       "<div>\n",
       "<style scoped>\n",
       "    .dataframe tbody tr th:only-of-type {\n",
       "        vertical-align: middle;\n",
       "    }\n",
       "\n",
       "    .dataframe tbody tr th {\n",
       "        vertical-align: top;\n",
       "    }\n",
       "\n",
       "    .dataframe thead th {\n",
       "        text-align: right;\n",
       "    }\n",
       "</style>\n",
       "<table border=\"1\" class=\"dataframe\">\n",
       "  <thead>\n",
       "    <tr style=\"text-align: right;\">\n",
       "      <th></th>\n",
       "      <th>title</th>\n",
       "      <th>source</th>\n",
       "      <th>total_news_today</th>\n",
       "    </tr>\n",
       "  </thead>\n",
       "  <tbody>\n",
       "    <tr>\n",
       "      <th>0</th>\n",
       "      <td>VMware and Accenture launch new business group...</td>\n",
       "      <td>IT Brief Australia</td>\n",
       "      <td>1</td>\n",
       "    </tr>\n",
       "  </tbody>\n",
       "</table>\n",
       "</div>"
      ],
      "text/plain": [
       "                                               title              source  \\\n",
       "0  VMware and Accenture launch new business group...  IT Brief Australia   \n",
       "\n",
       "   total_news_today  \n",
       "0                 1  "
      ]
     },
     "metadata": {},
     "execution_count": 12
    }
   ],
   "metadata": {}
  },
  {
   "cell_type": "code",
   "execution_count": 13,
   "source": [
    "df[\"sentiment_score\"] = df[\"title\"].apply(eval_sentiment_score_for_title)"
   ],
   "outputs": [],
   "metadata": {}
  },
  {
   "cell_type": "code",
   "execution_count": 14,
   "source": [
    "df"
   ],
   "outputs": [
    {
     "output_type": "execute_result",
     "data": {
      "text/html": [
       "<div>\n",
       "<style scoped>\n",
       "    .dataframe tbody tr th:only-of-type {\n",
       "        vertical-align: middle;\n",
       "    }\n",
       "\n",
       "    .dataframe tbody tr th {\n",
       "        vertical-align: top;\n",
       "    }\n",
       "\n",
       "    .dataframe thead th {\n",
       "        text-align: right;\n",
       "    }\n",
       "</style>\n",
       "<table border=\"1\" class=\"dataframe\">\n",
       "  <thead>\n",
       "    <tr style=\"text-align: right;\">\n",
       "      <th></th>\n",
       "      <th>title</th>\n",
       "      <th>source</th>\n",
       "      <th>total_news_today</th>\n",
       "      <th>sentiment_score</th>\n",
       "    </tr>\n",
       "  </thead>\n",
       "  <tbody>\n",
       "    <tr>\n",
       "      <th>0</th>\n",
       "      <td>VMware and Accenture launch new business group...</td>\n",
       "      <td>IT Brief Australia</td>\n",
       "      <td>1</td>\n",
       "      <td>3.7</td>\n",
       "    </tr>\n",
       "  </tbody>\n",
       "</table>\n",
       "</div>"
      ],
      "text/plain": [
       "                                               title              source  \\\n",
       "0  VMware and Accenture launch new business group...  IT Brief Australia   \n",
       "\n",
       "   total_news_today  sentiment_score  \n",
       "0                 1              3.7  "
      ]
     },
     "metadata": {},
     "execution_count": 14
    }
   ],
   "metadata": {}
  },
  {
   "cell_type": "code",
   "execution_count": 9,
   "source": [
    "for i in range(0,10):\n",
    "    print(df.iloc[i][\"title\"]) \n",
    "    print(df.iloc[i][\"sentiment_score\"])"
   ],
   "outputs": [
    {
     "output_type": "stream",
     "name": "stdout",
     "text": [
      "A new report from Accenture shows how state governments are embracing cloud technology - Technical.ly DC\n",
      "0.0\n",
      "Accenture Federal Services Launches Futureframe: A Practical Roadmap for Federal Agencies in Human-Centered Design - Business Wire\n",
      "0.0\n",
      "Accenture's Life Insurance Platform Recognized in New Report from Gartner® - Business Wire\n",
      "4.25\n",
      "New ABA, Accenture Report on State of Digital Lending Provides Roadmap for Digital Transformation at Banks - ABA Banking Journal\n",
      "0.0\n",
      "DDN Teams with Accenture to Deliver Corporate Director Training on Systemic Cyber Risk - Business Wire\n",
      "3.4200000762939453\n",
      "Accenture and Avanade Named Leaders in Everest Group’s PEAK Matrix for Microsoft Dynamics 365 Services - Yahoo Finance\n",
      "4.150000095367432\n",
      "Accenture Acquires Glamit to Help Clients Accelerate Digital Commerce - MarTech Series\n",
      "4.199999809265137\n",
      "Hyderabad: Accenture looks to hire across verticals and experience - Telangana Today\n",
      "0.0\n",
      "The Zacks Analyst Blog Highlights: Halliburton, Microsoft, Accenture, Baker Hughes, and Schlumberger - Yahoo Finance\n",
      "0.0\n",
      "Accenture acquires analytics and AI firm BRIDGEi2i - YourStory.com\n",
      "2.7100000381469727\n"
     ]
    }
   ],
   "metadata": {}
  },
  {
   "cell_type": "code",
   "execution_count": null,
   "source": [],
   "outputs": [],
   "metadata": {}
  }
 ],
 "metadata": {
  "orig_nbformat": 4,
  "kernelspec": {
   "name": "python3",
   "display_name": "Python 3.6.8 64-bit"
  },
  "language_info": {
   "name": "python",
   "version": "3.6.8",
   "mimetype": "text/x-python",
   "codemirror_mode": {
    "name": "ipython",
    "version": 3
   },
   "pygments_lexer": "ipython3",
   "nbconvert_exporter": "python",
   "file_extension": ".py"
  },
  "interpreter": {
   "hash": "916dbcbb3f70747c44a77c7bcd40155683ae19c65e1c03b4aa3499c5328201f1"
  }
 },
 "nbformat": 4,
 "nbformat_minor": 2
}